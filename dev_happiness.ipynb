{
 "cells": [
  {
   "cell_type": "markdown",
   "metadata": {},
   "source": [
    "## Happiness among developers"
   ]
  },
  {
   "cell_type": "code",
   "execution_count": 1,
   "metadata": {},
   "outputs": [],
   "source": [
    "import numpy as np\n",
    "import pandas as pd"
   ]
  },
  {
   "cell_type": "code",
   "execution_count": 2,
   "metadata": {},
   "outputs": [],
   "source": [
    "# Read in three years with good data dictionaries\n",
    "# NOTE: This assumes data are in a subfolder of where the notebook is being run\n",
    "df19 = pd.read_csv(\"data/survey_results_2019.csv\", header=0, low_memory=False)\n",
    "df18 = pd.read_csv(\"data/survey_results_2018.csv\", header=0, low_memory=False)\n",
    "df17 = pd.read_csv(\"data/survey_results_2017.csv\", header=0, low_memory=False)"
   ]
  },
  {
   "cell_type": "code",
   "execution_count": 3,
   "metadata": {},
   "outputs": [
    {
     "name": "stdout",
     "output_type": "stream",
     "text": [
      "JobSat\n",
      "Neither satisfied nor dissatisfied     8720\n",
      "Slightly dissatisfied                 10752\n",
      "Slightly satisfied                    24207\n",
      "Very dissatisfied                      4857\n",
      "Very satisfied                        22452\n",
      "Name: JobSat, dtype: int64\n",
      "JobSatisfaction\n",
      "Extremely dissatisfied                 2482\n",
      "Extremely satisfied                   12436\n",
      "Moderately dissatisfied                6318\n",
      "Moderately satisfied                  26005\n",
      "Neither satisfied nor dissatisfied     4966\n",
      "Slightly dissatisfied                  7057\n",
      "Slightly satisfied                    10012\n",
      "Name: JobSatisfaction, dtype: int64\n",
      "JobSatisfaction\n",
      "0.0      467\n",
      "1.0      373\n",
      "2.0      888\n",
      "3.0     1635\n",
      "4.0     1865\n",
      "5.0     3749\n",
      "6.0     4726\n",
      "7.0     7969\n",
      "8.0     8983\n",
      "9.0     5573\n",
      "10.0    4148\n",
      "Name: JobSatisfaction, dtype: int64\n"
     ]
    }
   ],
   "source": [
    "# The variable name, values, and scale all change each year \n",
    "print(\"2019:\")\n",
    "print(df19.groupby(['JobSat'])['JobSat'].count())\n",
    "print(\"2018:\")\n",
    "print(df18.groupby(['JobSatisfaction'])['JobSatisfaction'].count())\n",
    "print(\"2017:\")\n",
    "print(df17.groupby(['JobSatisfaction'])['JobSatisfaction'].count())"
   ]
  },
  {
   "cell_type": "code",
   "execution_count": 4,
   "metadata": {},
   "outputs": [],
   "source": [
    "# Map 2018 and 2019 to same scale as 2017 and reconcile variable names\n",
    "dsat19 = {\n",
    "    'Very dissatisfied': 0.,\n",
    "    'Slightly dissatisfied': 2.5,\n",
    "    'Neither satisfied nor dissatisfied': 5.,\n",
    "    'Slightly satisfied': 7.5,\n",
    "    'Very satisfied': 10.,\n",
    "}\n",
    "dsat18 = {\n",
    "    'Extremely dissatisfied': 0.,\n",
    "    'Moderately dissatisfied': 1*5/3,\n",
    "    'Slightly dissatisfied': 2*5/3,\n",
    "    'Neither satisfied nor dissatisfied': 5.,\n",
    "    'Slightly satisfied': 4*5/3,\n",
    "    'Moderately satisfied': 5*5/3,\n",
    "    'Extremely satisfied': 10.,\n",
    "}\n",
    "df19['qJobSat'] = [dsat19.get(var, None) for var in df19.JobSat]\n",
    "df18['qJobSat'] = [dsat18.get(var, None) for var in df18.JobSatisfaction]\n",
    "df17['qJobSat'] = df17.JobSatisfaction"
   ]
  },
  {
   "cell_type": "code",
   "execution_count": 6,
   "metadata": {},
   "outputs": [
    {
     "name": "stdout",
     "output_type": "stream",
     "text": [
      "2019:\n",
      "count    70988.000000\n",
      "mean         6.713142\n",
      "std          3.124204\n",
      "min          0.000000\n",
      "25%          5.000000\n",
      "50%          7.500000\n",
      "75%         10.000000\n",
      "max         10.000000\n",
      "Name: qJobSat, dtype: float64\n",
      "2018:\n",
      "count    69276.000000\n",
      "mean         6.736797\n",
      "std          2.869820\n",
      "min          0.000000\n",
      "25%          5.000000\n",
      "50%          8.333333\n",
      "75%          8.333333\n",
      "max         10.000000\n",
      "Name: qJobSat, dtype: float64\n",
      "2017:\n",
      "count    40376.000000\n",
      "mean         6.957078\n",
      "std          2.167652\n",
      "min          0.000000\n",
      "25%          6.000000\n",
      "50%          7.000000\n",
      "75%          8.000000\n",
      "max         10.000000\n",
      "Name: qJobSat, dtype: float64\n"
     ]
    }
   ],
   "source": [
    "print(\"2019:\")\n",
    "print(df19.qJobSat.describe())\n",
    "print(\"2018:\")\n",
    "print(df18.qJobSat.describe())\n",
    "print(\"2017:\")\n",
    "print(df17.qJobSat.describe())"
   ]
  },
  {
   "cell_type": "code",
   "execution_count": null,
   "metadata": {},
   "outputs": [],
   "source": []
  }
 ],
 "metadata": {
  "kernelspec": {
   "display_name": "Python 3",
   "language": "python",
   "name": "python3"
  },
  "language_info": {
   "codemirror_mode": {
    "name": "ipython",
    "version": 3
   },
   "file_extension": ".py",
   "mimetype": "text/x-python",
   "name": "python",
   "nbconvert_exporter": "python",
   "pygments_lexer": "ipython3",
   "version": "3.7.4"
  }
 },
 "nbformat": 4,
 "nbformat_minor": 2
}
